{
 "cells": [
  {
   "cell_type": "code",
   "execution_count": 2,
   "metadata": {},
   "outputs": [
    {
     "name": "stdout",
     "output_type": "stream",
     "text": [
      "The autoreload extension is already loaded. To reload it, use:\n",
      "  %reload_ext autoreload\n"
     ]
    },
    {
     "ename": "ModuleNotFoundError",
     "evalue": "No module named 'tsne'",
     "output_type": "error",
     "traceback": [
      "\u001b[0;31m---------------------------------------------------------------------------\u001b[0m",
      "\u001b[0;31mModuleNotFoundError\u001b[0m                       Traceback (most recent call last)",
      "Cell \u001b[0;32mIn[2], line 12\u001b[0m\n\u001b[1;32m      9\u001b[0m get_ipython()\u001b[38;5;241m.\u001b[39mrun_line_magic(\u001b[38;5;124m'\u001b[39m\u001b[38;5;124mautoreload\u001b[39m\u001b[38;5;124m'\u001b[39m, \u001b[38;5;124m'\u001b[39m\u001b[38;5;124m2\u001b[39m\u001b[38;5;124m'\u001b[39m)\n\u001b[1;32m     10\u001b[0m get_ipython()\u001b[38;5;241m.\u001b[39mrun_line_magic(\u001b[38;5;124m'\u001b[39m\u001b[38;5;124mmatplotlib\u001b[39m\u001b[38;5;124m'\u001b[39m, \u001b[38;5;124m'\u001b[39m\u001b[38;5;124minline\u001b[39m\u001b[38;5;124m'\u001b[39m)\n\u001b[0;32m---> 12\u001b[0m \u001b[38;5;28;01mfrom\u001b[39;00m \u001b[38;5;21;01mperturbseq\u001b[39;00m \u001b[38;5;28;01mimport\u001b[39;00m \u001b[38;5;241m*\u001b[39m\n",
      "File \u001b[0;32m~/git_external/Perturbseq_GI/perturbseq/__init__.py:21\u001b[0m\n\u001b[1;32m     19\u001b[0m \u001b[38;5;28;01mfrom\u001b[39;00m \u001b[38;5;21;01m.\u001b[39;00m\u001b[38;5;21;01mexpression_normalization\u001b[39;00m \u001b[38;5;28;01mimport\u001b[39;00m z_normalize_expression, normalize_to_control, normalize_matrix_to_control, strip_low_expression, log_normalize_expression, equalize_UMI_counts, normalize_to_gemgroup_control, inherit_normalized_matrix, normalize_matrix_by_key\n\u001b[1;32m     20\u001b[0m \u001b[38;5;28;01mfrom\u001b[39;00m \u001b[38;5;21;01m.\u001b[39;00m\u001b[38;5;21;01mcell_cycle\u001b[39;00m \u001b[38;5;28;01mimport\u001b[39;00m get_cell_phase_genes, add_cell_cycle_scores, cell_cycle_position_heatmap\n\u001b[0;32m---> 21\u001b[0m \u001b[38;5;28;01mfrom\u001b[39;00m \u001b[38;5;21;01m.\u001b[39;00m\u001b[38;5;21;01mtransformers\u001b[39;00m \u001b[38;5;28;01mimport\u001b[39;00m PCAReducer, ICAReducer, PCATSNEReducer, PCAUMAPReducer\n\u001b[1;32m     22\u001b[0m \u001b[38;5;28;01mfrom\u001b[39;00m \u001b[38;5;21;01m.\u001b[39;00m\u001b[38;5;21;01mdifferential_expression\u001b[39;00m \u001b[38;5;28;01mimport\u001b[39;00m ks_de, ad_de, tree_selector, TreeSelectorResult, find_noisy_genes\n\u001b[1;32m     23\u001b[0m \u001b[38;5;28;01mfrom\u001b[39;00m \u001b[38;5;21;01m.\u001b[39;00m\u001b[38;5;21;01mutil\u001b[39;00m \u001b[38;5;28;01mimport\u001b[39;00m upper_triangle, nzflat, gini\n",
      "File \u001b[0;32m~/git_external/Perturbseq_GI/perturbseq/transformers.py:19\u001b[0m\n\u001b[1;32m     17\u001b[0m \u001b[38;5;28;01mfrom\u001b[39;00m \u001b[38;5;21;01msklearn\u001b[39;00m\u001b[38;5;21;01m.\u001b[39;00m\u001b[38;5;21;01mbase\u001b[39;00m \u001b[38;5;28;01mimport\u001b[39;00m BaseEstimator, TransformerMixin\n\u001b[1;32m     18\u001b[0m \u001b[38;5;28;01mfrom\u001b[39;00m \u001b[38;5;21;01msklearn\u001b[39;00m\u001b[38;5;21;01m.\u001b[39;00m\u001b[38;5;21;01mmanifold\u001b[39;00m \u001b[38;5;28;01mimport\u001b[39;00m TSNE\n\u001b[0;32m---> 19\u001b[0m \u001b[38;5;28;01mimport\u001b[39;00m \u001b[38;5;21;01mtsne\u001b[39;00m \u001b[38;5;28;01mas\u001b[39;00m \u001b[38;5;21;01mtsne_bh\u001b[39;00m\n\u001b[1;32m     20\u001b[0m \u001b[38;5;28;01mfrom\u001b[39;00m \u001b[38;5;21;01mumap\u001b[39;00m \u001b[38;5;28;01mimport\u001b[39;00m UMAP\n\u001b[1;32m     22\u001b[0m \u001b[38;5;28;01mdef\u001b[39;00m \u001b[38;5;21m_prepare_dataframe\u001b[39m(Z, index\u001b[38;5;241m=\u001b[39m\u001b[38;5;28;01mNone\u001b[39;00m, columns\u001b[38;5;241m=\u001b[39m\u001b[38;5;28;01mNone\u001b[39;00m, prefix\u001b[38;5;241m=\u001b[39m\u001b[38;5;28;01mNone\u001b[39;00m):\n",
      "\u001b[0;31mModuleNotFoundError\u001b[0m: No module named 'tsne'"
     ]
    }
   ],
   "source": [
    "import matplotlib.pyplot as plt\n",
    "import numpy as np\n",
    "import pandas as pd\n",
    "import seaborn as sns\n",
    "pd.options.display.float_format = '{:.4f}'.format\n",
    "import matplotlib\n",
    "matplotlib.rcParams['pdf.fonttype'] = 42\n",
    "%load_ext autoreload\n",
    "%autoreload 2\n",
    "%matplotlib inline\n",
    "\n",
    "from perturbseq import *"
   ]
  },
  {
   "cell_type": "markdown",
   "metadata": {},
   "source": [
    "# Load Perturbseq experiment (run this section once)"
   ]
  },
  {
   "cell_type": "markdown",
   "metadata": {},
   "source": [
    "*The raw UMI threshold here is used to remove cell barcodes from the raw gene expression matrix that have too few UMIs to be useful. (Loading the whole matrix into memory at some point becomes wasteful when most entries are zero.) This should be set to the same threshold as used in the guide barcode calling script as guide identities will not be available for any cell barcode below the threshold set there.*\n",
    "\n",
    "**Note that we did not use cellranger's cell barcode calling since in a heterogeneous population their heuristic tends to remove cells bearing perturbations that induce low UMI counts. This was addressed by a new algorithm in cellranger 3.0**"
   ]
  },
  {
   "cell_type": "code",
   "execution_count": 3,
   "metadata": {},
   "outputs": [
    {
     "name": "stdout",
     "output_type": "stream",
     "text": [
      "Loading digital expression data: /home/tmn/sequencing/gi/gi/outs/raw_gene_bc_matrices_mex/GRCh38/matrix.mtx...\n",
      "Densifying matrix...\n",
      "Filtering cell barcodes with fewer than 2000 UMIs...\n",
      "Loading guide identities:/home/tmn/sequencing/gi/gi/outs/raw_cell_identities.csv...\n",
      "Generating summary statistics...\n",
      "Done.\n",
      "Writing matrix...\n",
      "Writing metadata...\n",
      "Done in 39.5335490704s.\n"
     ]
    }
   ],
   "source": [
    "pop = CellPopulation.from_file('./data/', filtered=False, raw_umi_threshold=2000)\n",
    "\n",
    "# This guide lands between RHOXF2 and RHOXF2B but appears to have stronger effect on RHOXF2B\n",
    "pop.cells['guide_identity'] = pop.cells['guide_identity'].map(lambda x: x.replace('RHOXF2', 'RHOXF2B'))\n",
    "pop.to_hdf('./data/outs/final_pop.hdf')"
   ]
  },
  {
   "cell_type": "markdown",
   "metadata": {},
   "source": [
    "**Remove multiplets**"
   ]
  },
  {
   "cell_type": "code",
   "execution_count": 4,
   "metadata": {},
   "outputs": [
    {
     "name": "stdout",
     "output_type": "stream",
     "text": [
      "Generating summary statistics...\n",
      "Done.\n",
      "Writing matrix...\n",
      "Writing metadata...\n",
      "Done in 27.1661679745s.\n"
     ]
    }
   ],
   "source": [
    "pop = pop.subpopulation(cells='single_cell')\n",
    "pop.to_hdf('/home/tmn/sequencing/gi/gi/outs/final_single_cell_pop.hdf')"
   ]
  },
  {
   "cell_type": "markdown",
   "metadata": {},
   "source": [
    "**Add useful metadata**"
   ]
  },
  {
   "cell_type": "code",
   "execution_count": 5,
   "metadata": {},
   "outputs": [],
   "source": [
    "# these have different names in the emap and in GChr38\n",
    "name_replacer = {'C3orf72': 'FOXL2NB',\n",
    "                 'C19orf26': 'CBARP',\n",
    "                 'KIAA1804': 'RP5-862P8.2',\n",
    "                 'RHOXF2': 'RHOXF2B',\n",
    "                }\n",
    "\n",
    "inverse_name_replacer = {v: k for k, v in name_replacer.iteritems()}"
   ]
  },
  {
   "cell_type": "code",
   "execution_count": 6,
   "metadata": {},
   "outputs": [
    {
     "data": {
      "text/html": [
       "<div>\n",
       "<style scoped>\n",
       "    .dataframe tbody tr th:only-of-type {\n",
       "        vertical-align: middle;\n",
       "    }\n",
       "\n",
       "    .dataframe tbody tr th {\n",
       "        vertical-align: top;\n",
       "    }\n",
       "\n",
       "    .dataframe thead th {\n",
       "        text-align: right;\n",
       "    }\n",
       "</style>\n",
       "<table border=\"1\" class=\"dataframe\">\n",
       "  <thead>\n",
       "    <tr style=\"text-align: right;\">\n",
       "      <th></th>\n",
       "      <th>guide_identity</th>\n",
       "      <th>guide_read_count</th>\n",
       "      <th>guide_UMI_count</th>\n",
       "      <th>guide_coverage</th>\n",
       "      <th>gemgroup</th>\n",
       "      <th>good_coverage</th>\n",
       "      <th>number_of_cells</th>\n",
       "      <th>cellranger_called</th>\n",
       "      <th>guide_target</th>\n",
       "      <th>single_cell</th>\n",
       "      <th>UMI_count</th>\n",
       "      <th>num_targets</th>\n",
       "      <th>guide_target_1</th>\n",
       "      <th>guide_target_2</th>\n",
       "      <th>perturbed</th>\n",
       "    </tr>\n",
       "    <tr>\n",
       "      <th>gem_group</th>\n",
       "      <th></th>\n",
       "      <th></th>\n",
       "      <th></th>\n",
       "      <th></th>\n",
       "      <th></th>\n",
       "      <th></th>\n",
       "      <th></th>\n",
       "      <th></th>\n",
       "      <th></th>\n",
       "      <th></th>\n",
       "      <th></th>\n",
       "      <th></th>\n",
       "      <th></th>\n",
       "      <th></th>\n",
       "      <th></th>\n",
       "    </tr>\n",
       "  </thead>\n",
       "  <tbody>\n",
       "    <tr>\n",
       "      <th>1</th>\n",
       "      <td>1008</td>\n",
       "      <td>1008</td>\n",
       "      <td>1008</td>\n",
       "      <td>1008</td>\n",
       "      <td>1008</td>\n",
       "      <td>1008</td>\n",
       "      <td>1008</td>\n",
       "      <td>1008</td>\n",
       "      <td>1008</td>\n",
       "      <td>1008</td>\n",
       "      <td>1008</td>\n",
       "      <td>1008</td>\n",
       "      <td>1008</td>\n",
       "      <td>1008</td>\n",
       "      <td>1008</td>\n",
       "    </tr>\n",
       "    <tr>\n",
       "      <th>2</th>\n",
       "      <td>928</td>\n",
       "      <td>928</td>\n",
       "      <td>928</td>\n",
       "      <td>928</td>\n",
       "      <td>928</td>\n",
       "      <td>928</td>\n",
       "      <td>928</td>\n",
       "      <td>928</td>\n",
       "      <td>928</td>\n",
       "      <td>928</td>\n",
       "      <td>928</td>\n",
       "      <td>928</td>\n",
       "      <td>928</td>\n",
       "      <td>928</td>\n",
       "      <td>928</td>\n",
       "    </tr>\n",
       "    <tr>\n",
       "      <th>3</th>\n",
       "      <td>863</td>\n",
       "      <td>863</td>\n",
       "      <td>863</td>\n",
       "      <td>863</td>\n",
       "      <td>863</td>\n",
       "      <td>863</td>\n",
       "      <td>863</td>\n",
       "      <td>863</td>\n",
       "      <td>863</td>\n",
       "      <td>863</td>\n",
       "      <td>863</td>\n",
       "      <td>863</td>\n",
       "      <td>863</td>\n",
       "      <td>863</td>\n",
       "      <td>863</td>\n",
       "    </tr>\n",
       "    <tr>\n",
       "      <th>4</th>\n",
       "      <td>874</td>\n",
       "      <td>874</td>\n",
       "      <td>874</td>\n",
       "      <td>874</td>\n",
       "      <td>874</td>\n",
       "      <td>874</td>\n",
       "      <td>874</td>\n",
       "      <td>874</td>\n",
       "      <td>874</td>\n",
       "      <td>874</td>\n",
       "      <td>874</td>\n",
       "      <td>874</td>\n",
       "      <td>874</td>\n",
       "      <td>874</td>\n",
       "      <td>874</td>\n",
       "    </tr>\n",
       "    <tr>\n",
       "      <th>5</th>\n",
       "      <td>821</td>\n",
       "      <td>821</td>\n",
       "      <td>821</td>\n",
       "      <td>821</td>\n",
       "      <td>821</td>\n",
       "      <td>821</td>\n",
       "      <td>821</td>\n",
       "      <td>821</td>\n",
       "      <td>821</td>\n",
       "      <td>821</td>\n",
       "      <td>821</td>\n",
       "      <td>821</td>\n",
       "      <td>821</td>\n",
       "      <td>821</td>\n",
       "      <td>821</td>\n",
       "    </tr>\n",
       "    <tr>\n",
       "      <th>6</th>\n",
       "      <td>976</td>\n",
       "      <td>976</td>\n",
       "      <td>976</td>\n",
       "      <td>976</td>\n",
       "      <td>976</td>\n",
       "      <td>976</td>\n",
       "      <td>976</td>\n",
       "      <td>976</td>\n",
       "      <td>976</td>\n",
       "      <td>976</td>\n",
       "      <td>976</td>\n",
       "      <td>976</td>\n",
       "      <td>976</td>\n",
       "      <td>976</td>\n",
       "      <td>976</td>\n",
       "    </tr>\n",
       "    <tr>\n",
       "      <th>7</th>\n",
       "      <td>934</td>\n",
       "      <td>934</td>\n",
       "      <td>934</td>\n",
       "      <td>934</td>\n",
       "      <td>934</td>\n",
       "      <td>934</td>\n",
       "      <td>934</td>\n",
       "      <td>934</td>\n",
       "      <td>934</td>\n",
       "      <td>934</td>\n",
       "      <td>934</td>\n",
       "      <td>934</td>\n",
       "      <td>934</td>\n",
       "      <td>934</td>\n",
       "      <td>934</td>\n",
       "    </tr>\n",
       "    <tr>\n",
       "      <th>8</th>\n",
       "      <td>949</td>\n",
       "      <td>949</td>\n",
       "      <td>949</td>\n",
       "      <td>949</td>\n",
       "      <td>949</td>\n",
       "      <td>949</td>\n",
       "      <td>949</td>\n",
       "      <td>949</td>\n",
       "      <td>949</td>\n",
       "      <td>949</td>\n",
       "      <td>949</td>\n",
       "      <td>949</td>\n",
       "      <td>949</td>\n",
       "      <td>949</td>\n",
       "      <td>949</td>\n",
       "    </tr>\n",
       "  </tbody>\n",
       "</table>\n",
       "</div>"
      ],
      "text/plain": [
       "           guide_identity  guide_read_count  guide_UMI_count  guide_coverage  \\\n",
       "gem_group                                                                      \n",
       "1                    1008              1008             1008            1008   \n",
       "2                     928               928              928             928   \n",
       "3                     863               863              863             863   \n",
       "4                     874               874              874             874   \n",
       "5                     821               821              821             821   \n",
       "6                     976               976              976             976   \n",
       "7                     934               934              934             934   \n",
       "8                     949               949              949             949   \n",
       "\n",
       "           gemgroup  good_coverage  number_of_cells  cellranger_called  \\\n",
       "gem_group                                                                \n",
       "1              1008           1008             1008               1008   \n",
       "2               928            928              928                928   \n",
       "3               863            863              863                863   \n",
       "4               874            874              874                874   \n",
       "5               821            821              821                821   \n",
       "6               976            976              976                976   \n",
       "7               934            934              934                934   \n",
       "8               949            949              949                949   \n",
       "\n",
       "           guide_target  single_cell  UMI_count  num_targets  guide_target_1  \\\n",
       "gem_group                                                                      \n",
       "1                  1008         1008       1008         1008            1008   \n",
       "2                   928          928        928          928             928   \n",
       "3                   863          863        863          863             863   \n",
       "4                   874          874        874          874             874   \n",
       "5                   821          821        821          821             821   \n",
       "6                   976          976        976          976             976   \n",
       "7                   934          934        934          934             934   \n",
       "8                   949          949        949          949             949   \n",
       "\n",
       "           guide_target_2  perturbed  \n",
       "gem_group                             \n",
       "1                    1008       1008  \n",
       "2                     928        928  \n",
       "3                     863        863  \n",
       "4                     874        874  \n",
       "5                     821        821  \n",
       "6                     976        976  \n",
       "7                     934        934  \n",
       "8                     949        949  "
      ]
     },
     "execution_count": 6,
     "metadata": {},
     "output_type": "execute_result"
    }
   ],
   "source": [
    "pop.cells['guide_target'] = pop.cells['guide_identity'].map(lambda x: x.split('__')[0] if isinstance(x, basestring) else 'no_id')\n",
    "pop.cells['num_targets'] = pop.cells['guide_target'].map(lambda x: len(x.split('_')))\n",
    "pop.cells['guide_target_1'] = pop.cells['guide_target'].map(lambda x: x.split('_')[0])\n",
    "pop.cells['guide_target_2'] = ''\n",
    "pop.cells.loc[pop.cells['num_targets'] == 2, 'guide_target_2'] = pop.cells.loc[pop.cells['num_targets'] == 2, 'guide_target'].map(lambda x: x.split('_')[1])\n",
    "pop.cells['guide_target_1'] = pop.cells['guide_target_1'].map(lambda x: name_replacer.get(x, x))\n",
    "pop.cells['guide_target_2'] = pop.cells['guide_target_2'].map(lambda x: name_replacer.get(x, x))\n",
    "pop.cells['guide_target'] = pop.cells['guide_target_1'] + '_' + pop.cells['guide_target_2']\n",
    "\n",
    "control_targets = np.setdiff1d(pop.cells.groupby('guide_target').count().sort_values('number_of_cells', ascending=False).head(4).index.values,\n",
    "                               'NegCtrl1_NegCtrl0')\n",
    "pop.cells['perturbed'] = pop.cells['guide_target'].map(lambda x: 'control' if x in control_targets else x)\n",
    "pop.cells.query('perturbed == \"control\"').groupby('gem_group').count()"
   ]
  },
  {
   "cell_type": "markdown",
   "metadata": {},
   "source": [
    "**For memory efficiency, remove genes with no counts from expression matrix.**"
   ]
  },
  {
   "cell_type": "code",
   "execution_count": 7,
   "metadata": {},
   "outputs": [],
   "source": [
    "strip_low_expression(pop)"
   ]
  },
  {
   "cell_type": "markdown",
   "metadata": {},
   "source": [
    "**Generate normalized matrix**"
   ]
  },
  {
   "cell_type": "code",
   "execution_count": 8,
   "metadata": {},
   "outputs": [
    {
     "name": "stdout",
     "output_type": "stream",
     "text": [
      "Normalizing all cells to 14955.0 UMI...\n",
      "groupby: index in @key_barcodes and (perturbed == \"control\") (key = gem_group)\n",
      "Processing gem group 1\n",
      "     Determining scale factors...\n",
      "     Normalizing matrix to median\n",
      "     Normalizing control matrix to median\n",
      "     Scaling matrix to control\n",
      "     Done.\n",
      "4.39555191994\n",
      "Processing gem group 2\n",
      "     Determining scale factors...\n",
      "     Normalizing matrix to median\n",
      "     Normalizing control matrix to median\n",
      "     Scaling matrix to control\n",
      "     Done.\n",
      "4.0634598732\n",
      "Processing gem group 3\n",
      "     Determining scale factors...\n",
      "     Normalizing matrix to median\n",
      "     Normalizing control matrix to median\n",
      "     Scaling matrix to control\n",
      "     Done.\n",
      "4.69665813446\n",
      "Processing gem group 4\n",
      "     Determining scale factors...\n",
      "     Normalizing matrix to median\n",
      "     Normalizing control matrix to median\n",
      "     Scaling matrix to control\n",
      "     Done.\n",
      "3.79387998581\n",
      "Processing gem group 5\n",
      "     Determining scale factors...\n",
      "     Normalizing matrix to median\n",
      "     Normalizing control matrix to median\n",
      "     Scaling matrix to control\n",
      "     Done.\n",
      "4.08887410164\n",
      "Processing gem group 6\n",
      "     Determining scale factors...\n",
      "     Normalizing matrix to median\n",
      "     Normalizing control matrix to median\n",
      "     Scaling matrix to control\n",
      "     Done.\n",
      "4.08683419228\n",
      "Processing gem group 7\n",
      "     Determining scale factors...\n",
      "     Normalizing matrix to median\n",
      "     Normalizing control matrix to median\n",
      "     Scaling matrix to control\n",
      "     Done.\n",
      "4.36965703964\n",
      "Processing gem group 8\n",
      "     Determining scale factors...\n",
      "     Normalizing matrix to median\n",
      "     Normalizing control matrix to median\n",
      "     Scaling matrix to control\n",
      "     Done.\n",
      "4.44540309906\n",
      "Merging submatrices...\n"
     ]
    }
   ],
   "source": [
    "pop.normalized_matrix = normalize_to_gemgroup_control(pop, control_cells='perturbed == \"control\"')"
   ]
  },
  {
   "cell_type": "code",
   "execution_count": 9,
   "metadata": {},
   "outputs": [
    {
     "name": "stdout",
     "output_type": "stream",
     "text": [
      "Generating summary statistics...\n",
      "Done.\n",
      "Inheriting from parent normalized matrix...\n"
     ]
    }
   ],
   "source": [
    "control_targets = np.setdiff1d(pop.cells.groupby('guide_target').count().sort_values('number_of_cells', ascending=False).head(4).index.values,\n",
    "                                'NegCtrl1_NegCtrl0')\n",
    "\n",
    "control_pop = pop.subpopulation(cells='perturbed == \"control\"', normalized_matrix='inherit')"
   ]
  },
  {
   "cell_type": "markdown",
   "metadata": {},
   "source": [
    "**Add cell cycle scores**"
   ]
  },
  {
   "cell_type": "code",
   "execution_count": 10,
   "metadata": {},
   "outputs": [
    {
     "name": "stderr",
     "output_type": "stream",
     "text": [
      "perturbseq/cell_cycle.py:17: SettingWithCopyWarning: \n",
      "A value is trying to be set on a copy of a slice from a DataFrame.\n",
      "Try using .loc[row_indexer,col_indexer] = value instead\n",
      "\n",
      "See the caveats in the documentation: http://pandas.pydata.org/pandas-docs/stable/indexing.html#indexing-view-versus-copy\n",
      "  expression_matrix['total'] = expression_matrix.mean(axis=1)\n"
     ]
    }
   ],
   "source": [
    "cell_cycle_genes = get_cell_phase_genes(control_pop, refine=True, threshold=0.3)"
   ]
  },
  {
   "cell_type": "code",
   "execution_count": 11,
   "metadata": {},
   "outputs": [],
   "source": [
    "add_cell_cycle_scores(pop, gene_list=cell_cycle_genes)\n",
    "add_cell_cycle_scores(control_pop, gene_list=cell_cycle_genes)"
   ]
  },
  {
   "cell_type": "code",
   "execution_count": 12,
   "metadata": {},
   "outputs": [
    {
     "name": "stdout",
     "output_type": "stream",
     "text": [
      "Writing matrix...\n",
      "Writing normalized matrix...\n",
      "Writing metadata...\n",
      "! Converting categorical columns to string...\n",
      "Done in 3.15682196617s.\n"
     ]
    }
   ],
   "source": [
    "control_pop.to_hdf('/home/tmn/sequencing/gi/gi/outs/control_pop.hdf', store_normalized_matrix=True)"
   ]
  },
  {
   "cell_type": "markdown",
   "metadata": {},
   "source": [
    "**Save as hdf5 so that we don't have to do slow steps every time notebook runs**"
   ]
  },
  {
   "cell_type": "code",
   "execution_count": 13,
   "metadata": {},
   "outputs": [
    {
     "name": "stdout",
     "output_type": "stream",
     "text": [
      "Writing matrix...\n",
      "Writing normalized matrix...\n",
      "Writing metadata...\n",
      "! Converting categorical columns to string...\n",
      "Done in 103.400902987s.\n"
     ]
    }
   ],
   "source": [
    "pop.to_hdf('/home/tmn/sequencing/gi/gi/outs/final_single_cell_pop_with_normalized.hdf', store_normalized_matrix=True)"
   ]
  },
  {
   "cell_type": "markdown",
   "metadata": {},
   "source": [
    "# Load pre-processed Perturbseq experiment from hdf5"
   ]
  },
  {
   "cell_type": "code",
   "execution_count": 14,
   "metadata": {},
   "outputs": [],
   "source": [
    "# pop = CellPopulation.from_hdf('/home/tmn/sequencing/gi/gi/outs/final_single_cell_pop_with_normalized.hdf')"
   ]
  },
  {
   "cell_type": "code",
   "execution_count": 15,
   "metadata": {},
   "outputs": [
    {
     "name": "stdout",
     "output_type": "stream",
     "text": [
      "Matrix\n",
      "==========================\n",
      "<class 'pandas.core.frame.DataFrame'>\n",
      "Index: 93658 entries, AAACCTGAGGCATGTG-1 to TTTGTCATCTGGCGAC-8\n",
      "Columns: 24665 entries, ENSG00000243485 to ENSG00000271254\n",
      "dtypes: int32(24665)\n",
      "memory usage: 8.6 GB\n",
      "\n",
      "Normalized matrix\n",
      "==========================\n",
      "<class 'pandas.core.frame.DataFrame'>\n",
      "Index: 93658 entries, AAACCTGAGGCATGTG-1 to TTTGTCATCTGGCGAC-8\n",
      "Columns: 24665 entries, ENSG00000243485 to ENSG00000271254\n",
      "dtypes: float64(24665)\n",
      "memory usage: 17.2 GB\n"
     ]
    }
   ],
   "source": [
    "pop.info()"
   ]
  },
  {
   "cell_type": "markdown",
   "metadata": {},
   "source": [
    "# Generate mean population"
   ]
  },
  {
   "cell_type": "code",
   "execution_count": 16,
   "metadata": {},
   "outputs": [
    {
     "name": "stdout",
     "output_type": "stream",
     "text": [
      "Computing average expression matrices...\n"
     ]
    },
    {
     "data": {
      "application/vnd.jupyter.widget-view+json": {
       "model_id": "cffdd33f53e54001aa2814f87a293981",
       "version_major": 2,
       "version_minor": 0
      },
      "text/html": [
       "<p>Failed to display Jupyter Widget of type <code>HBox</code>.</p>\n",
       "<p>\n",
       "  If you're reading this message in Jupyter Notebook or JupyterLab, it may mean\n",
       "  that the widgets JavaScript is still loading. If this message persists, it\n",
       "  likely means that the widgets JavaScript library is either not installed or\n",
       "  not enabled. See the <a href=\"https://ipywidgets.readthedocs.io/en/stable/user_install.html\">Jupyter\n",
       "  Widgets Documentation</a> for setup instructions.\n",
       "</p>\n",
       "<p>\n",
       "  If you're reading this message in another notebook frontend (for example, a static\n",
       "  rendering on GitHub or <a href=\"https://nbviewer.jupyter.org/\">NBViewer</a>),\n",
       "  it may mean that your frontend doesn't currently support widgets.\n",
       "</p>\n"
      ],
      "text/plain": [
       "HBox(children=(IntProgress(value=1, bar_style=u'info', max=1), HTML(value=u'')))"
      ]
     },
     "metadata": {},
     "output_type": "display_data"
    },
    {
     "name": "stdout",
     "output_type": "stream",
     "text": [
      "\n",
      "Computing normalized average expression matrices...\n"
     ]
    },
    {
     "data": {
      "application/vnd.jupyter.widget-view+json": {
       "model_id": "7321f4bee5f0431b85dd5db4c9d84fd9",
       "version_major": 2,
       "version_minor": 0
      },
      "text/html": [
       "<p>Failed to display Jupyter Widget of type <code>HBox</code>.</p>\n",
       "<p>\n",
       "  If you're reading this message in Jupyter Notebook or JupyterLab, it may mean\n",
       "  that the widgets JavaScript is still loading. If this message persists, it\n",
       "  likely means that the widgets JavaScript library is either not installed or\n",
       "  not enabled. See the <a href=\"https://ipywidgets.readthedocs.io/en/stable/user_install.html\">Jupyter\n",
       "  Widgets Documentation</a> for setup instructions.\n",
       "</p>\n",
       "<p>\n",
       "  If you're reading this message in another notebook frontend (for example, a static\n",
       "  rendering on GitHub or <a href=\"https://nbviewer.jupyter.org/\">NBViewer</a>),\n",
       "  it may mean that your frontend doesn't currently support widgets.\n",
       "</p>\n"
      ],
      "text/plain": [
       "HBox(children=(IntProgress(value=1, bar_style=u'info', max=1), HTML(value=u'')))"
      ]
     },
     "metadata": {},
     "output_type": "display_data"
    },
    {
     "name": "stdout",
     "output_type": "stream",
     "text": [
      "\n",
      "Computing clusters...\n"
     ]
    },
    {
     "data": {
      "application/vnd.jupyter.widget-view+json": {
       "model_id": "f159d50890b241e39480e8f2323e71f1",
       "version_major": 2,
       "version_minor": 0
      },
      "text/html": [
       "<p>Failed to display Jupyter Widget of type <code>HBox</code>.</p>\n",
       "<p>\n",
       "  If you're reading this message in Jupyter Notebook or JupyterLab, it may mean\n",
       "  that the widgets JavaScript is still loading. If this message persists, it\n",
       "  likely means that the widgets JavaScript library is either not installed or\n",
       "  not enabled. See the <a href=\"https://ipywidgets.readthedocs.io/en/stable/user_install.html\">Jupyter\n",
       "  Widgets Documentation</a> for setup instructions.\n",
       "</p>\n",
       "<p>\n",
       "  If you're reading this message in another notebook frontend (for example, a static\n",
       "  rendering on GitHub or <a href=\"https://nbviewer.jupyter.org/\">NBViewer</a>),\n",
       "  it may mean that your frontend doesn't currently support widgets.\n",
       "</p>\n"
      ],
      "text/plain": [
       "HBox(children=(IntProgress(value=1, bar_style=u'info', max=1), HTML(value=u'')))"
      ]
     },
     "metadata": {},
     "output_type": "display_data"
    },
    {
     "name": "stdout",
     "output_type": "stream",
     "text": [
      "\n",
      "Generating summary statistics...\n",
      "Done.\n"
     ]
    }
   ],
   "source": [
    "mean_pop = pop.average('guide_target', show_progress=True)"
   ]
  },
  {
   "cell_type": "code",
   "execution_count": 17,
   "metadata": {},
   "outputs": [],
   "source": [
    "# for expression comparisons we will just use average RNAseq profiles normalized to same UMI count\n",
    "# mean_pop.normalized_matrix = equalize_UMI_counts(mean_pop.matrix,\n",
    "#                                                  median_umi_count=pop.cells.query('perturbed==\"control\"')['UMI_count'].median())"
   ]
  },
  {
   "cell_type": "markdown",
   "metadata": {},
   "source": [
    "**Add metadata**"
   ]
  },
  {
   "cell_type": "code",
   "execution_count": 18,
   "metadata": {},
   "outputs": [
    {
     "name": "stderr",
     "output_type": "stream",
     "text": [
      "perturbseq/cell_population.py:1197: UserWarning: Function application containing missing keys that were replaced by nans.\n",
      "  warnings.warn('Function application containing missing keys that were replaced by nans.')\n",
      "/usr/local/lib/python2.7/dist-packages/ipykernel_launcher.py:19: RuntimeWarning: divide by zero encountered in log10\n",
      "/usr/local/lib/python2.7/dist-packages/ipykernel_launcher.py:25: RuntimeWarning: divide by zero encountered in log10\n",
      "/usr/local/lib/python2.7/dist-packages/ipykernel_launcher.py:26: RuntimeWarning: divide by zero encountered in log10\n"
     ]
    }
   ],
   "source": [
    "mean_pop.cells['first_target'] = mean_pop.cells.index.map(lambda x: x.split('_')[0])\n",
    "mean_pop.cells['second_target'] = mean_pop.cells.index.map(lambda x: x.split('_')[1])\n",
    "mean_pop.cells['guide_target'] = mean_pop.cells.index\n",
    "mean_pop.cells['num_targets'] = 2 - mean_pop.cells.index.str.count('NegCtrl')\n",
    "mean_pop.cells['first_id'] = mean_pop.cells['first_target'].map(lambda x: mean_pop.gene_ids(x))\n",
    "mean_pop.cells['second_id'] = mean_pop.cells['second_target'].map(lambda x: mean_pop.gene_ids(x))\n",
    "\n",
    "mean_pop.add_property(cells=mean_pop.metaapply({'first_expr': lambda meta, expr: expr.loc[meta.name, meta['first_id']],\n",
    "                                                 'second_expr': lambda meta, expr: expr.loc[meta.name, meta['second_id']],\n",
    "                                                }))\n",
    "\n",
    "mean_pop.add_property(cells=metaapply(mean_pop.cells, control_pop.genes,\n",
    "                      {'control_first_expr': lambda meta, expr: expr.loc[meta['first_id'], 'mean'],\n",
    "                       'control_second_expr': lambda meta, expr: expr.loc[meta['second_id'], 'mean'],\n",
    "                      }))\n",
    "\n",
    "mean_pop.cells['fold_first_expr'] = mean_pop.cells['first_expr']/mean_pop.cells['control_first_expr']\n",
    "mean_pop.cells['fold_second_expr'] = mean_pop.cells['second_expr']/mean_pop.cells['control_second_expr']\n",
    "mean_pop.cells['log_fold_first_expr'] = np.log10(mean_pop.cells['fold_first_expr'])\n",
    "mean_pop.cells['log_fold_second_expr'] = np.log10(mean_pop.cells['fold_second_expr'])\n",
    "mean_pop.cells['diff_first_expr'] = mean_pop.cells['first_expr'] - mean_pop.cells['control_first_expr']\n",
    "mean_pop.cells['diff_second_expr'] = mean_pop.cells['second_expr'] - mean_pop.cells['control_second_expr']\n",
    "mean_pop.cells['pct_first_expr'] = mean_pop.cells['diff_first_expr']/mean_pop.cells['control_first_expr']\n",
    "mean_pop.cells['pct_second_expr'] = mean_pop.cells['diff_second_expr']/mean_pop.cells['control_second_expr']\n",
    "mean_pop.cells['log_control_first_expr'] = np.log10(mean_pop.cells['control_first_expr'])\n",
    "mean_pop.cells['log_control_second_expr'] = np.log10(mean_pop.cells['control_second_expr'])"
   ]
  },
  {
   "cell_type": "markdown",
   "metadata": {},
   "source": [
    "# Differential expression"
   ]
  },
  {
   "cell_type": "code",
   "execution_count": 19,
   "metadata": {
    "scrolled": true
   },
   "outputs": [
    {
     "name": "stdout",
     "output_type": "stream",
     "text": [
      "7353 control cells\n",
      "groupby: index in @key_barcodes (key = guide_target)\n"
     ]
    },
    {
     "name": "stderr",
     "output_type": "stream",
     "text": [
      "[Parallel(n_jobs=24)]: Done   2 tasks      | elapsed:    7.8s\n",
      "[Parallel(n_jobs=24)]: Done  13 tasks      | elapsed:   13.5s\n",
      "[Parallel(n_jobs=24)]: Done  24 tasks      | elapsed:   19.4s\n",
      "[Parallel(n_jobs=24)]: Done  37 tasks      | elapsed:   26.7s\n",
      "[Parallel(n_jobs=24)]: Done  50 tasks      | elapsed:   33.4s\n",
      "[Parallel(n_jobs=24)]: Done  65 tasks      | elapsed:   42.0s\n",
      "[Parallel(n_jobs=24)]: Done  80 tasks      | elapsed:   49.6s\n",
      "[Parallel(n_jobs=24)]: Done  97 tasks      | elapsed:   59.3s\n",
      "[Parallel(n_jobs=24)]: Done 114 tasks      | elapsed:  1.1min\n",
      "[Parallel(n_jobs=24)]: Done 133 tasks      | elapsed:  1.3min\n",
      "[Parallel(n_jobs=24)]: Done 152 tasks      | elapsed:  1.5min\n",
      "[Parallel(n_jobs=24)]: Done 173 tasks      | elapsed:  1.7min\n",
      "[Parallel(n_jobs=24)]: Done 194 tasks      | elapsed:  1.9min\n",
      "[Parallel(n_jobs=24)]: Done 217 tasks      | elapsed:  2.1min\n",
      "[Parallel(n_jobs=24)]: Done 240 tasks      | elapsed:  2.3min\n",
      "[Parallel(n_jobs=24)]: Done 269 out of 287 | elapsed:  2.6min remaining:   10.3s\n",
      "[Parallel(n_jobs=24)]: Done 287 out of 287 | elapsed:  2.7min finished\n"
     ]
    }
   ],
   "source": [
    "ks, ps, adj_ps = ks_de(pop,\n",
    "                       key='guide_target',\n",
    "                       control_cells='perturbed == \"control\"',\n",
    "                       genes='mean > 0.25',\n",
    "                       normalized=True,\n",
    "                       alpha=0.001,\n",
    "                       n_jobs=24)"
   ]
  },
  {
   "cell_type": "code",
   "execution_count": 20,
   "metadata": {},
   "outputs": [],
   "source": [
    "mean_pop.cells['ks_de'] = (adj_ps < 0.001).sum()"
   ]
  },
  {
   "cell_type": "markdown",
   "metadata": {},
   "source": [
    "# Emap processing"
   ]
  },
  {
   "cell_type": "code",
   "execution_count": 113,
   "metadata": {},
   "outputs": [],
   "source": [
    "emap = pd.read_csv('./final_emaps/filter15/CRISPRa_K562_emap_gene.txt', index_col=0, sep='\\t')\n",
    "phen_matrix_guide = pd.read_csv('./final_emaps/filter15/CRISPRa_K562_replicateAverage_phenotypeMatrix_abbaAveraged.txt', index_col=0, sep='\\t')\n",
    "single_phen = pd.read_csv('./final_emaps/filter15/CRISPRa_K562_replicateAverage_singlePhenotypes_abbaAveraged.txt', index_col=0, sep='\\t')\n",
    "guide_phen_matrix = pd.read_csv('./final_emaps/filter15/CRISPRa_K562_replicateAverage_phenotypeMatrix_abbaAveraged.txt', index_col=0, header=0, sep='\\t')"
   ]
  },
  {
   "cell_type": "code",
   "execution_count": 116,
   "metadata": {},
   "outputs": [],
   "source": [
    "# averaging guide phenotypes targeting the same gene\n",
    "phen_matrix = phen_matrix_guide.copy()\n",
    "phen_matrix['gene'] = phen_matrix.index.map(lambda x: x.split('_')[0])\n",
    "phen_matrix = phen_matrix.groupby('gene').mean()\n",
    "phen_matrix = phen_matrix.T\n",
    "phen_matrix['gene'] = phen_matrix.index.map(lambda x: x.split('_')[0])\n",
    "phen_matrix = phen_matrix.groupby('gene').mean()"
   ]
  },
  {
   "cell_type": "code",
   "execution_count": 117,
   "metadata": {},
   "outputs": [],
   "source": [
    "# get the specific guides used in Perturbseq, which only uses one guide per gene instead of two\n",
    "guide_names = pd.read_excel('./final_emaps/CRISPRa_epistasis_GBC_final_corrected.xlsx')\n",
    "max_guide_names = pd.read_csv('./final_emaps/20160125_CRISPRa_doubles_oligos.txt', sep='\\t', index_col=[0, 1])\n",
    "\n",
    "single_guides = guide_names.query('gene_B == \"NegCtrl0\"')['protospacer_sequence_A']\n",
    "max_guide_names['protospacer sequence'] = max_guide_names['protospacer sequence'].str.upper()\n",
    "chosen_guides = max_guide_names[max_guide_names['protospacer sequence'].isin(single_guides)].reset_index() \\\n",
    "                        .rename(columns = {'level_0': 'guide_id',\n",
    "                                           'protospacer sequence': 'protospacer'})\n",
    "chosen_guides = chosen_guides[['gene', 'guide_id', 'protospacer']].set_index('gene')\n",
    "chosen_guides = chosen_guides.loc[chosen_guides.index != 'RHOXF2B']\n",
    "chosen_guides.to_csv('./final_emaps/20180821_guides_chosen_for_perturbseq.csv')"
   ]
  },
  {
   "cell_type": "code",
   "execution_count": 121,
   "metadata": {},
   "outputs": [],
   "source": [
    "# name differences between Max's guide names and GRCh38\n",
    "emap.columns = emap.columns.map(lambda x: name_replacer.get(x, x))\n",
    "emap.index = emap.index.map(lambda x: name_replacer.get(x, x))\n",
    "\n",
    "phen_matrix.columns = phen_matrix.columns.map(lambda x: name_replacer.get(x, x))\n",
    "phen_matrix.index = phen_matrix.index.map(lambda x: name_replacer.get(x, x))"
   ]
  },
  {
   "cell_type": "code",
   "execution_count": 122,
   "metadata": {},
   "outputs": [],
   "source": [
    "single_phen['guide_target'] = single_phen.index.map(lambda x: x.split('_')[0])\n",
    "single_phen['guide_target'] = single_phen['guide_target'].map(lambda x: name_replacer.get(x, x))\n",
    "\n",
    "single_fitnesses = single_phen.groupby('guide_target').mean()['b.mean']\n",
    "single_fitnesses.index = single_fitnesses.index.map(lambda x: name_replacer.get(x, x))\n",
    "single_fitnesses = pd.DataFrame(single_fitnesses)\n",
    "single_fitnesses = single_fitnesses.rename(columns={'b.mean': 'average_fitness'})\n",
    "\n",
    "chosen_fitness = unfiltered_single_phen.loc[chosen_guides['guide_id']].rename(columns={'b.mean': 'chosen_guide_fitness'})['chosen_guide_fitness']\n",
    "chosen_fitness.index = chosen_fitness.index.map(lambda x: name_replacer.get(x.split('_')[0], x.split('_')[0]))\n",
    "single_fitnesses['chosen_guide_fitness'] = chosen_fitness"
   ]
  },
  {
   "cell_type": "code",
   "execution_count": 124,
   "metadata": {},
   "outputs": [],
   "source": [
    "# this table is needed for running Max's emap scripts\n",
    "single_phen['gene'] = single_phen.index.map(lambda x: x.split('_')[0]).map(lambda x: name_replacer.get(x, x))\n",
    "single_phen_gene = single_phen.groupby('gene').mean().rename(columns={'a.mean': 'mean'})['mean']\n",
    "single_phenotypes = pd.DataFrame(single_phen_gene).rename(columns={'mean': 'a.mean'})\n",
    "single_phenotypes['b.mean'] = single_phen_gene\n",
    "\n",
    "unfiltered_single_phenotypes = single_fitnesses[['chosen_guide_fitness']].rename(columns={'chosen_guide_fitness': 'a.mean'})\n",
    "unfiltered_single_phenotypes['b.mean'] = unfiltered_single_phenotypes['a.mean']"
   ]
  },
  {
   "cell_type": "code",
   "execution_count": 125,
   "metadata": {},
   "outputs": [],
   "source": [
    "# fitness mapper, maps names to raw fitness values\n",
    "fitness_mapper = dict()\n",
    "unfiltered_fitness_mapper = dict()\n",
    "\n",
    "for perturbation in pop.cells['guide_target'].unique():\n",
    "    first, second = perturbation.split('_')\n",
    "    try:\n",
    "        if 'NegCtrl' in second:\n",
    "            fitness_mapper[perturbation] = single_fitnesses.loc[first, 'average_fitness']\n",
    "            unfiltered_fitness_mapper[perturbation] = single_fitnesses.loc[first, 'chosen_guide_fitness']\n",
    "        elif 'NegCtrl' in first:\n",
    "            fitness_mapper[perturbation] = single_fitnesses.loc[second, 'average_fitness']\n",
    "            unfiltered_fitness_mapper[perturbation] = single_fitnesses.loc[second, 'chosen_guide_fitness']\n",
    "        else:\n",
    "            fitness_mapper[perturbation] = phen_matrix.loc[first, second]\n",
    "            unfiltered_fitness_mapper[perturbation] = perturbseq_phen_matrix.loc[first, second]\n",
    "    except KeyError:\n",
    "        fitness_mapper[perturbation] = np.nan\n",
    "        unfiltered_fitness_mapper[perturbation] = np.nan"
   ]
  },
  {
   "cell_type": "code",
   "execution_count": 126,
   "metadata": {},
   "outputs": [],
   "source": [
    "mean_pop.cells['fitness'] = mean_pop.cells.index.map(lambda x: fitness_mapper[x])\n",
    "mean_pop.cells['perturbseq_fitness'] = mean_pop.cells.index.map(lambda x: unfiltered_fitness_mapper[x])"
   ]
  },
  {
   "cell_type": "code",
   "execution_count": 127,
   "metadata": {},
   "outputs": [],
   "source": [
    "emap.to_csv('./final_emaps/processed_emap.csv')\n",
    "phen_matrix.to_csv('./final_emaps/processed_fitnesses.csv')\n",
    "single_fitnesses.to_csv('./final_emaps/single_fitnesses.csv')\n",
    "single_phenotypes.to_csv('./final_emaps/single_phenotype_table.csv')"
   ]
  },
  {
   "cell_type": "markdown",
   "metadata": {},
   "source": [
    "# Save mean population"
   ]
  },
  {
   "cell_type": "code",
   "execution_count": 76,
   "metadata": {},
   "outputs": [
    {
     "name": "stdout",
     "output_type": "stream",
     "text": [
      "Writing matrix...\n",
      "Writing normalized matrix...\n",
      "Writing metadata...\n",
      "Done in 0.156399965286s.\n"
     ]
    }
   ],
   "source": [
    "mean_pop.to_hdf('/home/tmn/sequencing/gi/gi/outs/mean_pop_with_normalized.hdf', store_normalized_matrix=True)"
   ]
  },
  {
   "cell_type": "code",
   "execution_count": 77,
   "metadata": {},
   "outputs": [],
   "source": [
    "mean_pop.matrix.to_csv('./data_sharing/mean_expression_unnormalized.csv')\n",
    "mean_pop.normalized_matrix.to_csv('./data_sharing/mean_expression_normalized.csv')"
   ]
  },
  {
   "cell_type": "markdown",
   "metadata": {},
   "source": [
    "# Create mean population of only singles present in both emap and perturbseq"
   ]
  },
  {
   "cell_type": "code",
   "execution_count": 78,
   "metadata": {},
   "outputs": [],
   "source": [
    "single_genes = np.intersect1d(reduce(np.union1d, mean_pop.cells.query('num_targets == 1')['guide_target'].map(lambda x: x.split('_'))),\n",
    "               emap.columns.map(lambda x: name_replacer.get(x, x)))\n",
    "# we know these don't work -- dropped out due to toxicity\n",
    "single_genes = np.setdiff1d(single_genes, ['BAK1', 'BCL2L11'])\n",
    "\n",
    "# maps gene name to single (SLC38A2 is the lone exception where we don't have it in position 1)\n",
    "single_gene_perturbations = dict()\n",
    "\n",
    "for gene in single_genes:\n",
    "    if gene + '_NegCtrl0' in mean_pop.cells.index:\n",
    "        single_gene_perturbations[gene] = gene + '_NegCtrl0'\n",
    "    elif 'NegCtrl0_' + gene in mean_pop.cells.index:\n",
    "        single_gene_perturbations[gene] = 'NegCtrl0_' + gene"
   ]
  },
  {
   "cell_type": "code",
   "execution_count": 79,
   "metadata": {
    "scrolled": true
   },
   "outputs": [
    {
     "name": "stdout",
     "output_type": "stream",
     "text": [
      "Computing average expression matrices...\n"
     ]
    },
    {
     "data": {
      "application/vnd.jupyter.widget-view+json": {
       "model_id": "ba711e1b029b4de5a638e3892526a05f",
       "version_major": 2,
       "version_minor": 0
      },
      "text/html": [
       "<p>Failed to display Jupyter Widget of type <code>HBox</code>.</p>\n",
       "<p>\n",
       "  If you're reading this message in Jupyter Notebook or JupyterLab, it may mean\n",
       "  that the widgets JavaScript is still loading. If this message persists, it\n",
       "  likely means that the widgets JavaScript library is either not installed or\n",
       "  not enabled. See the <a href=\"https://ipywidgets.readthedocs.io/en/stable/user_install.html\">Jupyter\n",
       "  Widgets Documentation</a> for setup instructions.\n",
       "</p>\n",
       "<p>\n",
       "  If you're reading this message in another notebook frontend (for example, a static\n",
       "  rendering on GitHub or <a href=\"https://nbviewer.jupyter.org/\">NBViewer</a>),\n",
       "  it may mean that your frontend doesn't currently support widgets.\n",
       "</p>\n"
      ],
      "text/plain": [
       "HBox(children=(IntProgress(value=1, bar_style=u'info', max=1), HTML(value=u'')))"
      ]
     },
     "metadata": {},
     "output_type": "display_data"
    },
    {
     "name": "stdout",
     "output_type": "stream",
     "text": [
      "groupby: index in @key_barcodes and (guide_target in @singles) (key = guide_target)\n",
      "\n",
      "Computing normalized average expression matrices...\n"
     ]
    },
    {
     "data": {
      "application/vnd.jupyter.widget-view+json": {
       "model_id": "fed74b880fcc4de0824b9d9f86a2c65e",
       "version_major": 2,
       "version_minor": 0
      },
      "text/html": [
       "<p>Failed to display Jupyter Widget of type <code>HBox</code>.</p>\n",
       "<p>\n",
       "  If you're reading this message in Jupyter Notebook or JupyterLab, it may mean\n",
       "  that the widgets JavaScript is still loading. If this message persists, it\n",
       "  likely means that the widgets JavaScript library is either not installed or\n",
       "  not enabled. See the <a href=\"https://ipywidgets.readthedocs.io/en/stable/user_install.html\">Jupyter\n",
       "  Widgets Documentation</a> for setup instructions.\n",
       "</p>\n",
       "<p>\n",
       "  If you're reading this message in another notebook frontend (for example, a static\n",
       "  rendering on GitHub or <a href=\"https://nbviewer.jupyter.org/\">NBViewer</a>),\n",
       "  it may mean that your frontend doesn't currently support widgets.\n",
       "</p>\n"
      ],
      "text/plain": [
       "HBox(children=(IntProgress(value=1, bar_style=u'info', max=1), HTML(value=u'')))"
      ]
     },
     "metadata": {},
     "output_type": "display_data"
    },
    {
     "name": "stdout",
     "output_type": "stream",
     "text": [
      "groupby: index in @key_barcodes and (guide_target in @singles) (key = guide_target)\n",
      "\n",
      "Computing clusters...\n"
     ]
    },
    {
     "data": {
      "application/vnd.jupyter.widget-view+json": {
       "model_id": "5eaa88e6480b4b55a601605097a8135d",
       "version_major": 2,
       "version_minor": 0
      },
      "text/html": [
       "<p>Failed to display Jupyter Widget of type <code>HBox</code>.</p>\n",
       "<p>\n",
       "  If you're reading this message in Jupyter Notebook or JupyterLab, it may mean\n",
       "  that the widgets JavaScript is still loading. If this message persists, it\n",
       "  likely means that the widgets JavaScript library is either not installed or\n",
       "  not enabled. See the <a href=\"https://ipywidgets.readthedocs.io/en/stable/user_install.html\">Jupyter\n",
       "  Widgets Documentation</a> for setup instructions.\n",
       "</p>\n",
       "<p>\n",
       "  If you're reading this message in another notebook frontend (for example, a static\n",
       "  rendering on GitHub or <a href=\"https://nbviewer.jupyter.org/\">NBViewer</a>),\n",
       "  it may mean that your frontend doesn't currently support widgets.\n",
       "</p>\n"
      ],
      "text/plain": [
       "HBox(children=(IntProgress(value=1, bar_style=u'info', max=1), HTML(value=u'')))"
      ]
     },
     "metadata": {},
     "output_type": "display_data"
    },
    {
     "name": "stdout",
     "output_type": "stream",
     "text": [
      "groupby: index in @key_barcodes and (guide_target in @singles) (key = guide_target)\n",
      "\n",
      "Generating summary statistics...\n",
      "Done.\n"
     ]
    }
   ],
   "source": [
    "single_mean_pop = pop.average('guide_target', cells='guide_target in @singles',\n",
    "                              singles=single_gene_perturbations.values(),\n",
    "                              show_progress=True)"
   ]
  },
  {
   "cell_type": "code",
   "execution_count": 80,
   "metadata": {},
   "outputs": [],
   "source": [
    "for col in np.setdiff1d(mean_pop.cells.columns, single_mean_pop.cells.columns):\n",
    "    single_mean_pop.cells[col] = mean_pop.cells[col]"
   ]
  },
  {
   "cell_type": "code",
   "execution_count": 81,
   "metadata": {},
   "outputs": [
    {
     "name": "stdout",
     "output_type": "stream",
     "text": [
      "Writing matrix...\n",
      "Writing normalized matrix...\n",
      "Writing metadata...\n",
      "Done in 0.107188940048s.\n"
     ]
    }
   ],
   "source": [
    "single_mean_pop.to_hdf('/home/tmn/sequencing/gi/gi/outs/single_mean_pop_with_normalized.hdf', store_normalized_matrix=True)"
   ]
  },
  {
   "cell_type": "code",
   "execution_count": null,
   "metadata": {},
   "outputs": [],
   "source": []
  }
 ],
 "metadata": {
  "kernelspec": {
   "display_name": "Python 3 (ipykernel)",
   "language": "python",
   "name": "python3"
  },
  "language_info": {
   "codemirror_mode": {
    "name": "ipython",
    "version": 3
   },
   "file_extension": ".py",
   "mimetype": "text/x-python",
   "name": "python",
   "nbconvert_exporter": "python",
   "pygments_lexer": "ipython3",
   "version": "3.12.3"
  }
 },
 "nbformat": 4,
 "nbformat_minor": 4
}
